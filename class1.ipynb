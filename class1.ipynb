{
 "cells": [
  {
   "cell_type": "code",
   "execution_count": 9,
   "id": "18bd8a53",
   "metadata": {},
   "outputs": [
    {
     "name": "stdout",
     "output_type": "stream",
     "text": [
      "mohammed anees\n",
      "sanjay\n",
      "alam\n"
     ]
    }
   ],
   "source": [
    "print(\"mohammed anees\")\n",
    "print(\"sanjay\")\n",
    "print(\"alam\")"
   ]
  },
  {
   "cell_type": "code",
   "execution_count": 2,
   "id": "9e94140d",
   "metadata": {},
   "outputs": [
    {
     "name": "stdout",
     "output_type": "stream",
     "text": [
      "hi\n",
      "hello\n",
      "welcome\n"
     ]
    }
   ],
   "source": [
    "print(\"hi\\nhello\\nwelcome\")"
   ]
  },
  {
   "cell_type": "code",
   "execution_count": 3,
   "id": "7a36912f",
   "metadata": {},
   "outputs": [
    {
     "name": "stdout",
     "output_type": "stream",
     "text": [
      "hi\thello\twelcome\n"
     ]
    }
   ],
   "source": [
    "print(\"hi\\thello\\twelcome\")"
   ]
  },
  {
   "cell_type": "code",
   "execution_count": 5,
   "id": "7d482922",
   "metadata": {},
   "outputs": [],
   "source": [
    "import logging\n",
    "logger = logging.getLogger()"
   ]
  },
  {
   "cell_type": "code",
   "execution_count": 6,
   "id": "9ed52a7a",
   "metadata": {},
   "outputs": [
    {
     "name": "stderr",
     "output_type": "stream",
     "text": [
      "bug\n",
      "hello\n",
      "error\n",
      "has occured\n"
     ]
    }
   ],
   "source": [
    "logger.error(\"bug\")\n",
    "logger.error(\"hello\\nerror\\nhas occured\")"
   ]
  },
  {
   "cell_type": "code",
   "execution_count": 11,
   "id": "fbd62206",
   "metadata": {},
   "outputs": [
    {
     "name": "stdout",
     "output_type": "stream",
     "text": [
      "enter your name: Mohammed Anees\n"
     ]
    }
   ],
   "source": [
    "a = input(\"enter your name: \")"
   ]
  },
  {
   "cell_type": "code",
   "execution_count": 14,
   "id": "562c7022",
   "metadata": {},
   "outputs": [
    {
     "name": "stdout",
     "output_type": "stream",
     "text": [
      "welcome to today class\n"
     ]
    }
   ],
   "source": [
    "print(\"welcome to today class\")"
   ]
  },
  {
   "cell_type": "code",
   "execution_count": 15,
   "id": "9f2e7f44",
   "metadata": {},
   "outputs": [],
   "source": [
    "a = \"welcome to today class\""
   ]
  },
  {
   "cell_type": "code",
   "execution_count": 16,
   "id": "3755acfd",
   "metadata": {},
   "outputs": [
    {
     "name": "stdout",
     "output_type": "stream",
     "text": [
      "welcome to today class\n"
     ]
    }
   ],
   "source": [
    "print(a)"
   ]
  },
  {
   "cell_type": "code",
   "execution_count": 18,
   "id": "3f6887e6",
   "metadata": {},
   "outputs": [
    {
     "name": "stdout",
     "output_type": "stream",
     "text": [
      "<class 'str'>\n",
      "True\n"
     ]
    }
   ],
   "source": [
    "a = \"1234\"\n",
    "print(type(a))\n",
    "print(isinstance(a,str))"
   ]
  },
  {
   "cell_type": "code",
   "execution_count": 1,
   "id": "b7abd45e",
   "metadata": {},
   "outputs": [
    {
     "name": "stdout",
     "output_type": "stream",
     "text": [
      "mohammed anees\n",
      "MOHAMMED ANEES\n",
      "True\n",
      "False\n",
      "False\n"
     ]
    }
   ],
   "source": [
    "a = \"MOHAMMED ANEES\"\n",
    "print(a.lower())\n",
    "print(a.upper())\n",
    "print(a.isupper())\n",
    "print(a.islower())\n",
    "print(a.isalnum())"
   ]
  },
  {
   "cell_type": "code",
   "execution_count": 39,
   "id": "f89becff",
   "metadata": {},
   "outputs": [
    {
     "name": "stdout",
     "output_type": "stream",
     "text": [
      "d\n",
      "h\n",
      "i\n",
      "dhoni\n",
      "ho\n",
      "dn\n"
     ]
    }
   ],
   "source": [
    "#start : end : interval\n",
    "a = \"dhoni\"\n",
    "print(a[0])\n",
    "print(a[1])\n",
    "print(a[-1])\n",
    "print(a[:])\n",
    "print(a[1:3])\n",
    "print(a[::3])"
   ]
  },
  {
   "cell_type": "code",
   "execution_count": 67,
   "id": "0f54a9d1",
   "metadata": {},
   "outputs": [
    {
     "name": "stdout",
     "output_type": "stream",
     "text": [
      "mohammedanees\n",
      "13\n",
      "10\n",
      "11\n"
     ]
    }
   ],
   "source": [
    "print(\"mohammedanees\")\n",
    "a = \"mohammedanees\"\n",
    "print(len(a))\n",
    "print(a.index(\"e\",7))\n",
    "print(a.rindex(\"e\"))\n"
   ]
  },
  {
   "cell_type": "code",
   "execution_count": 6,
   "id": "4ec768dc",
   "metadata": {},
   "outputs": [
    {
     "name": "stdout",
     "output_type": "stream",
     "text": [
      "3\n",
      "hammedanees\n",
      "m\n"
     ]
    }
   ],
   "source": [
    "a = \"mohammedanees\"\n",
    "print(a.count(\"m\"))\n",
    "print(a.split(\"o\")[1])\n",
    "print(a.split(\"o\")[0])"
   ]
  },
  {
   "cell_type": "code",
   "execution_count": 66,
   "id": "0f60c456",
   "metadata": {},
   "outputs": [
    {
     "name": "stdout",
     "output_type": "stream",
     "text": [
      "<class 'int'>\n",
      "True\n",
      "True\n"
     ]
    }
   ],
   "source": [
    "#get input from user and remove spaces and get the total length of the word\n",
    "a = 123\n",
    "b = \"123\"\n",
    "print(type(a))\n",
    "print(isinstance(b,str))\n",
    "print(b.isdigit())"
   ]
  },
  {
   "cell_type": "code",
   "execution_count": 10,
   "id": "5e1ee19e",
   "metadata": {},
   "outputs": [
    {
     "name": "stdout",
     "output_type": "stream",
     "text": [
      "['anees', '20', 'chennai']\n",
      "['hello', 'welcome']\n",
      "<class 'list'>\n",
      "['anees', '20', 'chennai']\n",
      "20\n",
      "chennai\n",
      "3\n",
      "20\n",
      "chennai\n",
      "['20', 'anees', 'chennai']\n",
      "0\n"
     ]
    }
   ],
   "source": [
    "a = [\"anees\",\"20\",\"chennai\"]\n",
    "b = [\"hello\",\"welcome\"]\n",
    "print(a)\n",
    "print(b)\n",
    "print(type(a))\n",
    "print(a[:])\n",
    "print(a[1])\n",
    "print(a[-1])\n",
    "print(len(a))\n",
    "\n",
    "print(min(a))\n",
    "\n",
    "print(max(a))\n",
    "\n",
    "print(sorted(a))\n",
    "\n",
    "print(a.index(\"anees\"))\n"
   ]
  },
  {
   "cell_type": "code",
   "execution_count": 11,
   "id": "6843bc00",
   "metadata": {},
   "outputs": [
    {
     "name": "stdout",
     "output_type": "stream",
     "text": [
      "['anees', '20', 'chennai', 'smart']\n",
      "['anees', '20', 'age', 'chennai', 'smart']\n",
      "['anees', '20', 'chennai', 'smart']\n",
      "['anees', '20', 'smart']\n",
      "['anees', '20', 'smart', 'hello', 'welcome']\n"
     ]
    }
   ],
   "source": [
    "#append-is to add value in last\n",
    "#extend-two list and add as in one list\n",
    "#insert- we can add value in between\n",
    "#remove- we can remove the value\n",
    "#del- we can delete the value with index\n",
    "a = [\"anees\",\"20\",\"chennai\"]\n",
    "a.append(\"smart\")\n",
    "print(a)\n",
    "a.insert(2,\"age\")\n",
    "print(a)\n",
    "a.remove(\"age\")\n",
    "print(a)\n",
    "del a[2]\n",
    "print(a)\n",
    "a.extend(b)\n",
    "print(a)\n"
   ]
  },
  {
   "cell_type": "code",
   "execution_count": 1,
   "id": "4dc86fed",
   "metadata": {},
   "outputs": [
    {
     "name": "stdout",
     "output_type": "stream",
     "text": [
      "('hello', 'welcome', 'goodmorning')\n",
      "<class 'tuple'>\n",
      "True\n",
      "goodmorning\n",
      "welcome\n",
      "['goodmorning', 'hello', 'welcome']\n",
      "1\n"
     ]
    },
    {
     "ename": "AttributeError",
     "evalue": "'tuple' object has no attribute 'rindex'",
     "output_type": "error",
     "traceback": [
      "\u001b[1;31m---------------------------------------------------------------------------\u001b[0m",
      "\u001b[1;31mAttributeError\u001b[0m                            Traceback (most recent call last)",
      "\u001b[1;32m~\\AppData\\Local\\Temp\\ipykernel_18988\\4124954635.py\u001b[0m in \u001b[0;36m<module>\u001b[1;34m\u001b[0m\n\u001b[0;32m      8\u001b[0m \u001b[0mprint\u001b[0m\u001b[1;33m(\u001b[0m\u001b[0ma\u001b[0m\u001b[1;33m.\u001b[0m\u001b[0mindex\u001b[0m\u001b[1;33m(\u001b[0m\u001b[1;34m\"welcome\"\u001b[0m\u001b[1;33m)\u001b[0m\u001b[1;33m)\u001b[0m\u001b[1;33m\u001b[0m\u001b[1;33m\u001b[0m\u001b[0m\n\u001b[0;32m      9\u001b[0m \u001b[1;31m#tupl\u001b[0m\u001b[1;33m\u001b[0m\u001b[1;33m\u001b[0m\u001b[0m\n\u001b[1;32m---> 10\u001b[1;33m \u001b[0mprint\u001b[0m\u001b[1;33m(\u001b[0m\u001b[0ma\u001b[0m\u001b[1;33m.\u001b[0m\u001b[0mrindex\u001b[0m\u001b[1;33m(\u001b[0m\u001b[1;34m\"welcome\"\u001b[0m\u001b[1;33m)\u001b[0m\u001b[1;33m)\u001b[0m\u001b[1;33m\u001b[0m\u001b[1;33m\u001b[0m\u001b[0m\n\u001b[0m\u001b[0;32m     11\u001b[0m \u001b[0mprint\u001b[0m\u001b[1;33m(\u001b[0m\u001b[0ma\u001b[0m\u001b[1;33m.\u001b[0m\u001b[0mfind\u001b[0m\u001b[1;33m(\u001b[0m\u001b[1;34m\"welcome\"\u001b[0m\u001b[1;33m)\u001b[0m\u001b[1;33m)\u001b[0m\u001b[1;33m\u001b[0m\u001b[1;33m\u001b[0m\u001b[0m\n\u001b[0;32m     12\u001b[0m \u001b[0mprint\u001b[0m\u001b[1;33m(\u001b[0m\u001b[0ma\u001b[0m\u001b[1;33m.\u001b[0m\u001b[0mrfind\u001b[0m\u001b[1;33m(\u001b[0m\u001b[1;34m\"welcome\"\u001b[0m\u001b[1;33m)\u001b[0m\u001b[1;33m)\u001b[0m\u001b[1;33m\u001b[0m\u001b[1;33m\u001b[0m\u001b[0m\n",
      "\u001b[1;31mAttributeError\u001b[0m: 'tuple' object has no attribute 'rindex'"
     ]
    }
   ],
   "source": [
    "a = (\"hello\",\"welcome\",\"goodmorning\")\n",
    "print(a)\n",
    "print(type(a))\n",
    "print(isinstance(a,tuple))\n",
    "print(min(a))\n",
    "print(max(a))\n",
    "print(sorted(a))\n",
    "print(a.index(\"welcome\"))\n",
    "#tupl\n",
    "print(a.rindex(\"welcome\"))\n",
    "print(a.find(\"welcome\"))\n",
    "print(a.rfind(\"welcome\"))\n",
    "a.append(\"happy\")\n",
    "print(a)\n"
   ]
  },
  {
   "cell_type": "code",
   "execution_count": 15,
   "id": "cc27f636",
   "metadata": {},
   "outputs": [
    {
     "name": "stdout",
     "output_type": "stream",
     "text": [
      "Tell me about yourself : Tell me about yourself : iam mohammed anees from chennai iam studying bsc computer scinece in jha agarsen college and i have taken course (python)from besant technology\n",
      "['TELL', 'ME', 'ABOUT', 'YOURSELF', ':', 'IAM', 'MOHAMMED', 'ANEES', 'FROM', 'CHENNAI', 'IAM', 'STUDYING', 'BSC', 'COMPUTER', 'SCINECE', 'IN', 'JHA', 'AGARSEN', 'COLLEGE', 'AND', 'I', 'HAVE', 'TAKEN', 'COURSE', '(PYTHON)FROM', 'BESANT', 'TECHNOLOGY']\n"
     ]
    }
   ],
   "source": [
    "a = input(\"Tell me about yourself : \")\n",
    "a=a.replace(\",\",\"\").upper().split()\n",
    "print(a)"
   ]
  },
  {
   "cell_type": "code",
   "execution_count": null,
   "id": "77805fe5",
   "metadata": {},
   "outputs": [],
   "source": [
    "\n"
   ]
  },
  {
   "cell_type": "code",
   "execution_count": 49,
   "id": "cfe455b0",
   "metadata": {},
   "outputs": [
    {
     "data": {
      "text/plain": [
       "3.141592653589793"
      ]
     },
     "execution_count": 49,
     "metadata": {},
     "output_type": "execute_result"
    }
   ],
   "source": [
    "import math\n",
    "math.pi"
   ]
  },
  {
   "cell_type": "code",
   "execution_count": 50,
   "id": "0ffecdb0",
   "metadata": {},
   "outputs": [
    {
     "name": "stdout",
     "output_type": "stream",
     "text": [
      "{'WORK': 1, 'OFFICE': 2, 'GOOD': 2, 'BAD': 2, 'HAPPY': 1, 'UNHAPPY': 1, 'BYE': 3, 'COME': 1}\n"
     ]
    }
   ],
   "source": [
    "a = (\"work office good bad happy unhappy good bad office bye come bye bye\")\n",
    "a=a.upper().split()\n",
    "b={}\n",
    "for i in a:\n",
    "    if i in b.keys():\n",
    "        b[i]+=1\n",
    "    else:\n",
    "        b[i]=1\n",
    "print(b) \n"
   ]
  },
  {
   "cell_type": "code",
   "execution_count": null,
   "id": "d89f34d3",
   "metadata": {},
   "outputs": [],
   "source": []
  },
  {
   "cell_type": "code",
   "execution_count": null,
   "id": "c47fba2c",
   "metadata": {},
   "outputs": [],
   "source": []
  }
 ],
 "metadata": {
  "kernelspec": {
   "display_name": "Python 3 (ipykernel)",
   "language": "python",
   "name": "python3"
  },
  "language_info": {
   "codemirror_mode": {
    "name": "ipython",
    "version": 3
   },
   "file_extension": ".py",
   "mimetype": "text/x-python",
   "name": "python",
   "nbconvert_exporter": "python",
   "pygments_lexer": "ipython3",
   "version": "3.9.13"
  }
 },
 "nbformat": 4,
 "nbformat_minor": 5
}
