{
 "cells": [
  {
   "cell_type": "code",
   "execution_count": 1,
   "id": "5e642209",
   "metadata": {},
   "outputs": [
    {
     "name": "stdout",
     "output_type": "stream",
     "text": [
      "5\n"
     ]
    }
   ],
   "source": [
    "a=1\n",
    "b=4\n",
    "print(a+b)"
   ]
  },
  {
   "cell_type": "code",
   "execution_count": 4,
   "id": "4b87fdb4",
   "metadata": {},
   "outputs": [],
   "source": [
    "#function \n",
    "def test(a,b):\n",
    "    print(a+b)"
   ]
  },
  {
   "cell_type": "code",
   "execution_count": 5,
   "id": "2b9fbc3b",
   "metadata": {},
   "outputs": [
    {
     "name": "stdout",
     "output_type": "stream",
     "text": [
      "9\n"
     ]
    }
   ],
   "source": [
    "test(5,4)"
   ]
  },
  {
   "cell_type": "code",
   "execution_count": 6,
   "id": "cfd4631f",
   "metadata": {},
   "outputs": [],
   "source": [
    "def test(a,b,c):\n",
    "    print(a+b+c)"
   ]
  },
  {
   "cell_type": "code",
   "execution_count": 7,
   "id": "f6e0b294",
   "metadata": {},
   "outputs": [
    {
     "name": "stdout",
     "output_type": "stream",
     "text": [
      "9\n"
     ]
    }
   ],
   "source": [
    "test(1,5,3)"
   ]
  },
  {
   "cell_type": "code",
   "execution_count": 8,
   "id": "ce104b7e",
   "metadata": {},
   "outputs": [],
   "source": [
    "#return can use to add anywhere\n",
    "def test(a,b):\n",
    "    return(a+b)"
   ]
  },
  {
   "cell_type": "code",
   "execution_count": 9,
   "id": "e5c5f498",
   "metadata": {},
   "outputs": [],
   "source": [
    "a=test(5,4)"
   ]
  },
  {
   "cell_type": "code",
   "execution_count": 10,
   "id": "7d75988a",
   "metadata": {},
   "outputs": [
    {
     "name": "stdout",
     "output_type": "stream",
     "text": [
      "9\n"
     ]
    }
   ],
   "source": [
    "print(a)"
   ]
  },
  {
   "cell_type": "code",
   "execution_count": 11,
   "id": "379e2d53",
   "metadata": {},
   "outputs": [
    {
     "name": "stdout",
     "output_type": "stream",
     "text": [
      "14\n"
     ]
    }
   ],
   "source": [
    "b=test(a,5)\n",
    "print(b)"
   ]
  },
  {
   "cell_type": "code",
   "execution_count": 15,
   "id": "663df1e0",
   "metadata": {},
   "outputs": [
    {
     "name": "stdout",
     "output_type": "stream",
     "text": [
      "hi\n",
      "hello\n"
     ]
    }
   ],
   "source": [
    "a = \"hi\" #global variable\n",
    "def test():\n",
    "    global a\n",
    "    a=\"hello\" #local variable\n",
    "    return(a)\n",
    "print(a)\n",
    "a=test()\n",
    "print(a)"
   ]
  },
  {
   "cell_type": "code",
   "execution_count": 17,
   "id": "43528da7",
   "metadata": {},
   "outputs": [
    {
     "name": "stdout",
     "output_type": "stream",
     "text": [
      "hi\n",
      "hello\n",
      "hello\n"
     ]
    }
   ],
   "source": [
    "a = \"hi\" #global variable\n",
    "def test():\n",
    "    global a\n",
    "    a=\"hello\" #local variable\n",
    "    print(a)\n",
    "print(a)\n",
    "test()\n",
    "print(a)"
   ]
  },
  {
   "cell_type": "code",
   "execution_count": 10,
   "id": "e6e8ecbc",
   "metadata": {},
   "outputs": [],
   "source": [
    "def get_ready(num):\n",
    "    l=[]\n",
    "    for i in range(num):\n",
    "        if i %2 ==0:\n",
    "            l.append(i)\n",
    "    return l   "
   ]
  },
  {
   "cell_type": "code",
   "execution_count": 14,
   "id": "f7f94875",
   "metadata": {},
   "outputs": [
    {
     "name": "stdout",
     "output_type": "stream",
     "text": [
      "[0, 2, 4, 6, 8]\n",
      "[0, 2, 4, 6, 8, 10, 12, 14, 16, 18]\n"
     ]
    }
   ],
   "source": [
    "a=get_ready(10)\n",
    "print(a)\n",
    "b=get_ready(20)\n",
    "print(b)"
   ]
  },
  {
   "cell_type": "code",
   "execution_count": 13,
   "id": "a027b429",
   "metadata": {},
   "outputs": [],
   "source": [
    "def fb_name(f_name,m_name,l_name):\n",
    "    print(\"first name is\", f_name)\n",
    "    print(\"middle name is\", m_name)\n",
    "    print(\"last name is\", l_name)"
   ]
  },
  {
   "cell_type": "code",
   "execution_count": 52,
   "id": "3615a4f4",
   "metadata": {},
   "outputs": [
    {
     "name": "stdout",
     "output_type": "stream",
     "text": [
      "first name is anees\n",
      "middle name is alam\n",
      "last name is sanjay\n"
     ]
    }
   ],
   "source": [
    "#positional argument\n",
    "fb_name(\"anees\",\"alam\",\"sanjay\")"
   ]
  },
  {
   "cell_type": "code",
   "execution_count": 60,
   "id": "21fce8e9",
   "metadata": {},
   "outputs": [
    {
     "name": "stdout",
     "output_type": "stream",
     "text": [
      "first name is anees\n",
      "middle name is sanjay\n",
      "last name is alam\n"
     ]
    }
   ],
   "source": [
    "#keyword argument\n",
    "#in keyword argument (positional argument should come first) other it will not execute\n",
    "fb_name(\"anees\",m_name =\"sanjay\",l_name=\"alam\")"
   ]
  },
  {
   "cell_type": "code",
   "execution_count": 61,
   "id": "6261725c",
   "metadata": {},
   "outputs": [],
   "source": [
    "#default add none in output\n",
    "def fb_name(f_name=None,m_name=None,l_name=None):\n",
    "    print(\"first name is\", f_name)\n",
    "    print(\"middle name is\", m_name)\n",
    "    print(\"last name is\", l_name)"
   ]
  },
  {
   "cell_type": "code",
   "execution_count": 64,
   "id": "c2db72fc",
   "metadata": {},
   "outputs": [
    {
     "name": "stdout",
     "output_type": "stream",
     "text": [
      "first name is anees\n",
      "middle name is None\n",
      "last name is alam\n"
     ]
    }
   ],
   "source": [
    "fb_name(\"anees\",l_name=\"alam\")"
   ]
  },
  {
   "cell_type": "code",
   "execution_count": 5,
   "id": "0fbdb484",
   "metadata": {},
   "outputs": [],
   "source": [
    "def get_details(anis,alam):\n",
    "    if alam == \"count\":\n",
    "        d={}\n",
    "        for i in anis:\n",
    "            d[i]=anis.count(i)\n",
    "        return d\n",
    "    elif alam ==\"unique\":\n",
    "        return set(anis)\n",
    "    elif alam ==\"duplicate\":\n",
    "        l=[]\n",
    "        f_list=[]\n",
    "        for i in anis:\n",
    "            if i in l:\n",
    "                f_list.append(i)\n",
    "            else:\n",
    "                l.append(i)\n",
    "        return f_list"
   ]
  },
  {
   "cell_type": "code",
   "execution_count": 6,
   "id": "da7b20cf",
   "metadata": {},
   "outputs": [
    {
     "name": "stdout",
     "output_type": "stream",
     "text": [
      "{'lemon', 'apple', 'mango'}\n"
     ]
    }
   ],
   "source": [
    "a=[\"apple\",\"mango\",\"apple\",\"lemon\",\"mango\"]\n",
    "a=get_details(a,\"unique\")\n",
    "print(a)"
   ]
  },
  {
   "cell_type": "code",
   "execution_count": 11,
   "id": "e085752d",
   "metadata": {},
   "outputs": [
    {
     "data": {
      "text/plain": [
       "3.141592653589793"
      ]
     },
     "execution_count": 11,
     "metadata": {},
     "output_type": "execute_result"
    }
   ],
   "source": [
    "import math\n",
    "math.pi\n",
    "\n"
   ]
  },
  {
   "cell_type": "code",
   "execution_count": 55,
   "id": "0f529704",
   "metadata": {},
   "outputs": [
    {
     "name": "stdout",
     "output_type": "stream",
     "text": [
      "9\n",
      "3\n",
      "3.0\n"
     ]
    }
   ],
   "source": [
    "a=\"malayalam\"\n",
    "print(len(a))\n",
    "print(int(3))\n",
    "print(float(3))\n",
    "\n"
   ]
  },
  {
   "cell_type": "code",
   "execution_count": 1,
   "id": "4274b983",
   "metadata": {},
   "outputs": [],
   "source": [
    "def anees(a,b):\n",
    "    print(a+b)"
   ]
  },
  {
   "cell_type": "code",
   "execution_count": 2,
   "id": "fd7d01cc",
   "metadata": {},
   "outputs": [
    {
     "name": "stdout",
     "output_type": "stream",
     "text": [
      "9\n"
     ]
    }
   ],
   "source": [
    "anees(5,4)"
   ]
  },
  {
   "cell_type": "code",
   "execution_count": 3,
   "id": "b8541902",
   "metadata": {},
   "outputs": [],
   "source": [
    "def anees(a,b):\n",
    "    return(a+b)"
   ]
  },
  {
   "cell_type": "code",
   "execution_count": 4,
   "id": "f3041b42",
   "metadata": {},
   "outputs": [
    {
     "name": "stdout",
     "output_type": "stream",
     "text": [
      "11\n"
     ]
    }
   ],
   "source": [
    "a=anees(5,6)\n",
    "print(a)"
   ]
  },
  {
   "cell_type": "code",
   "execution_count": 8,
   "id": "30047fbd",
   "metadata": {},
   "outputs": [
    {
     "name": "stdout",
     "output_type": "stream",
     "text": [
      "16\n"
     ]
    }
   ],
   "source": [
    "b=anees(a,5)\n",
    "print(b)"
   ]
  },
  {
   "cell_type": "code",
   "execution_count": 18,
   "id": "3cb60519",
   "metadata": {},
   "outputs": [],
   "source": [
    "def alam(f_name,m_name,l_name):\n",
    "    print(\"my first name is\",f_name)\n",
    "    print(\"my middle name is\",m_name)\n",
    "    print(\"my last name is\",l_name)"
   ]
  },
  {
   "cell_type": "code",
   "execution_count": 19,
   "id": "7b1b8e02",
   "metadata": {},
   "outputs": [
    {
     "name": "stdout",
     "output_type": "stream",
     "text": [
      "my first name is sanjay\n",
      "my middle name is anaurag\n",
      "my last name is karan\n"
     ]
    }
   ],
   "source": [
    "alam(\"sanjay\",\"anaurag\",\"karan\")"
   ]
  },
  {
   "cell_type": "code",
   "execution_count": 63,
   "id": "1f212f8a",
   "metadata": {},
   "outputs": [],
   "source": [
    "def hero(anis,alam):\n",
    "    if alam ==\"count\":\n",
    "        b={}\n",
    "        for i in anis:\n",
    "            b[i]=anis.count(i)\n",
    "        return b\n",
    "    elif alam ==\"unique\":\n",
    "        return set(anis)\n",
    "    elif alam ==\"duplicate\":\n",
    "        l=[]\n",
    "        f_list=[]\n",
    "        for i in anis:\n",
    "            if i in l:\n",
    "                f_list.append(i)\n",
    "            else:\n",
    "                l.append(i)\n",
    "        return f_list\n",
    "    "
   ]
  },
  {
   "cell_type": "code",
   "execution_count": 64,
   "id": "e3cb34f7",
   "metadata": {},
   "outputs": [
    {
     "name": "stdout",
     "output_type": "stream",
     "text": [
      "['apple', 'banana']\n"
     ]
    }
   ],
   "source": [
    "a=[\"apple\",\"orange\",\"banana\",\"apple\",\"banana\"]\n",
    "a=hero(a,\"duplicate\")\n",
    "print(a)"
   ]
  },
  {
   "cell_type": "code",
   "execution_count": 128,
   "id": "839f3680",
   "metadata": {},
   "outputs": [
    {
     "name": "stdout",
     "output_type": "stream",
     "text": [
      "\t\n",
      "1 \t\n",
      "2 2 \t\n",
      "3 3 3 \t\n",
      "4 4 4 4 \t\n",
      "5 5 5 5 5 \t\n",
      "6 6 6 6 6 6 \t\n",
      "7 7 7 7 7 7 7 \t\n",
      "8 8 8 8 8 8 8 8 \t\n",
      "9 9 9 9 9 9 9 9 9 \t\n"
     ]
    }
   ],
   "source": [
    "#nested loop\n",
    "for i in range(10):\n",
    "    for j in range(i):\n",
    "        print(i,end=\" \")\n",
    "    print(\"\\t\")"
   ]
  },
  {
   "cell_type": "code",
   "execution_count": 8,
   "id": "39486cf0",
   "metadata": {},
   "outputs": [
    {
     "name": "stdout",
     "output_type": "stream",
     "text": [
      "Enter a value: madam\n",
      "it is a palindrome\n"
     ]
    }
   ],
   "source": [
    "#palindrome-->is the value should same when you reverse it (eg: madam) \n",
    "a=input(\"Enter a value: \")\n",
    "\n",
    "reverse = a[::-1]\n",
    "\n",
    "if (a == reverse):\n",
    "    print(\"it is a palindrome\")\n",
    "else:\n",
    "    print(\"it's not a palindrome\")"
   ]
  },
  {
   "cell_type": "code",
   "execution_count": 3,
   "id": "626b0fc2",
   "metadata": {},
   "outputs": [
    {
     "name": "stdout",
     "output_type": "stream",
     "text": [
      "Enter a number: 5\n",
      "0 1 1 2 3 "
     ]
    }
   ],
   "source": [
    "#fibonacci series--is a sequence of interger number formed by the addition of the preceding TWO number in the series \n",
    "   #eg:0 + 1 =1\n",
    "\n",
    "num=int(input(\"Enter a number: \"))\n",
    "n1,n2=0,1\n",
    "sum=0\n",
    "if num<=0:\n",
    "    print(\"Enter a number than zero\")\n",
    "else:\n",
    "    for i in range(0,num):\n",
    "        print(sum,end=\" \")\n",
    "        n1=n2\n",
    "        n2=sum\n",
    "        sum=n1+n2"
   ]
  },
  {
   "cell_type": "code",
   "execution_count": 119,
   "id": "b1b82c28",
   "metadata": {},
   "outputs": [],
   "source": [
    "#revision\n",
    "def hero(anis,alam):\n",
    "    if alam ==\"count\":\n",
    "        d={}\n",
    "        for i in anis:\n",
    "            d[i]=anis.count(i)\n",
    "        return d\n",
    "    elif alam ==\"unique\":\n",
    "        return set(anis)\n",
    "    elif alam ==\"duplicate\":\n",
    "        l=[]\n",
    "        f_list=[]\n",
    "        for i in anis:\n",
    "            if i in l:\n",
    "                f_list.append(i)\n",
    "            else:\n",
    "                l.append(i)\n",
    "        return f_list"
   ]
  },
  {
   "cell_type": "code",
   "execution_count": 126,
   "id": "41ec03e4",
   "metadata": {},
   "outputs": [
    {
     "name": "stdout",
     "output_type": "stream",
     "text": [
      "{'apple': 2, 'banana': 1, 'orange': 1}\n"
     ]
    }
   ],
   "source": [
    "a=[\"apple\",\"banana\",\"apple\",\"orange\"]\n",
    "a=hero(a,\"count\")\n",
    "print(a)"
   ]
  },
  {
   "cell_type": "code",
   "execution_count": null,
   "id": "8c85a275",
   "metadata": {},
   "outputs": [],
   "source": []
  }
 ],
 "metadata": {
  "kernelspec": {
   "display_name": "Python 3 (ipykernel)",
   "language": "python",
   "name": "python3"
  },
  "language_info": {
   "codemirror_mode": {
    "name": "ipython",
    "version": 3
   },
   "file_extension": ".py",
   "mimetype": "text/x-python",
   "name": "python",
   "nbconvert_exporter": "python",
   "pygments_lexer": "ipython3",
   "version": "3.9.13"
  }
 },
 "nbformat": 4,
 "nbformat_minor": 5
}
