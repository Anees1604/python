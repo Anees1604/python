{
 "cells": [
  {
   "cell_type": "code",
   "execution_count": 8,
   "id": "116897f0",
   "metadata": {},
   "outputs": [
    {
     "name": "stdout",
     "output_type": "stream",
     "text": [
      "<class 'set'>\n",
      "True\n",
      "{1, 2, 3, 4}\n"
     ]
    }
   ],
   "source": [
    "a = {1,2,3,4}\n",
    "print(type(a))\n",
    "print(isinstance(a,set))\n",
    "print(a)"
   ]
  },
  {
   "cell_type": "code",
   "execution_count": 11,
   "id": "aae8dc4f",
   "metadata": {},
   "outputs": [
    {
     "name": "stdout",
     "output_type": "stream",
     "text": [
      "{1, 2, 3, 4}\n"
     ]
    }
   ],
   "source": [
    "a ={1,1,2,2,3,3,4,4}\n",
    "print(a)"
   ]
  },
  {
   "cell_type": "code",
   "execution_count": 3,
   "id": "bcec7e4f",
   "metadata": {},
   "outputs": [
    {
     "name": "stdout",
     "output_type": "stream",
     "text": [
      "['one', 'two', 'one', 'two']\n",
      "['one', 'two']\n",
      "<class 'list'>\n",
      "0\n"
     ]
    }
   ],
   "source": [
    "a=['one','two','one','two']\n",
    "print(a)\n",
    "b=list(set(a))#to get (set with list)--we should create a list to get output\n",
    "print(b)\n",
    "print(type(b))\n",
    "print(a.index('one'))\n",
    "#duplicate value not define in list we convert has set then we execute"
   ]
  },
  {
   "cell_type": "code",
   "execution_count": 18,
   "id": "9d2344d4",
   "metadata": {},
   "outputs": [
    {
     "name": "stdout",
     "output_type": "stream",
     "text": [
      "{'one', 'three', 'two'}\n"
     ]
    },
    {
     "ename": "AttributeError",
     "evalue": "'set' object has no attribute 'index'",
     "output_type": "error",
     "traceback": [
      "\u001b[1;31m---------------------------------------------------------------------------\u001b[0m",
      "\u001b[1;31mAttributeError\u001b[0m                            Traceback (most recent call last)",
      "\u001b[1;32m~\\AppData\\Local\\Temp\\ipykernel_9816\\1886777029.py\u001b[0m in \u001b[0;36m<module>\u001b[1;34m\u001b[0m\n\u001b[0;32m      1\u001b[0m \u001b[0ma\u001b[0m\u001b[1;33m=\u001b[0m\u001b[1;33m{\u001b[0m\u001b[1;34m'one'\u001b[0m\u001b[1;33m,\u001b[0m\u001b[1;34m'two'\u001b[0m\u001b[1;33m,\u001b[0m\u001b[1;34m'three'\u001b[0m\u001b[1;33m}\u001b[0m\u001b[1;33m\u001b[0m\u001b[1;33m\u001b[0m\u001b[0m\n\u001b[0;32m      2\u001b[0m \u001b[0mprint\u001b[0m\u001b[1;33m(\u001b[0m\u001b[0ma\u001b[0m\u001b[1;33m)\u001b[0m\u001b[1;33m\u001b[0m\u001b[1;33m\u001b[0m\u001b[0m\n\u001b[1;32m----> 3\u001b[1;33m \u001b[0mprint\u001b[0m\u001b[1;33m(\u001b[0m\u001b[0ma\u001b[0m\u001b[1;33m.\u001b[0m\u001b[0mindex\u001b[0m\u001b[1;33m(\u001b[0m\u001b[1;34m'one'\u001b[0m\u001b[1;33m)\u001b[0m\u001b[1;33m)\u001b[0m\u001b[1;33m\u001b[0m\u001b[1;33m\u001b[0m\u001b[0m\n\u001b[0m",
      "\u001b[1;31mAttributeError\u001b[0m: 'set' object has no attribute 'index'"
     ]
    }
   ],
   "source": [
    "a={'one','two','three'}\n",
    "print(a)\n",
    "print(a.index('one'))\n",
    "#in set{} index,rindex will not come"
   ]
  },
  {
   "cell_type": "code",
   "execution_count": 23,
   "id": "be4f27ae",
   "metadata": {},
   "outputs": [
    {
     "name": "stdout",
     "output_type": "stream",
     "text": [
      "{1, 2, 3, 4, 5, 6}\n",
      "{3, 4}\n",
      "{1, 2}\n",
      "{5, 6}\n"
     ]
    }
   ],
   "source": [
    "a={1,2,3,4}\n",
    "b={3,4,5,6}\n",
    "print(a.union(b))\n",
    "print(a.intersection(b))\n",
    "print(a.difference(b))\n",
    "print(b.difference(a))"
   ]
  },
  {
   "cell_type": "code",
   "execution_count": 27,
   "id": "3bb487bb",
   "metadata": {},
   "outputs": [
    {
     "name": "stdout",
     "output_type": "stream",
     "text": [
      "False\n",
      "True\n",
      "True\n",
      "False\n"
     ]
    }
   ],
   "source": [
    "a={1,2}\n",
    "b={1,2,3,4}\n",
    "print(a.issuperset(b))\n",
    "\n",
    "print(b.issuperset(b))\n",
    "\n",
    "print(a.issubset(b))\n",
    "\n",
    "print(b.issubset(a))"
   ]
  },
  {
   "cell_type": "code",
   "execution_count": 33,
   "id": "61d0785d",
   "metadata": {},
   "outputs": [
    {
     "name": "stdout",
     "output_type": "stream",
     "text": [
      "{1, 2, 3, 4, 5, 6}\n",
      "None\n",
      "{1, 2, 3, 4, 5, 6, 7}\n",
      "None\n",
      "{1, 2, 3, 5, 6, 7}\n"
     ]
    }
   ],
   "source": [
    "a={1,2,3,5,6,4}\n",
    "print(a)\n",
    "print(a.add(7))\n",
    "print(a)\n",
    "print(a.remove(4))\n",
    "print(a)"
   ]
  },
  {
   "cell_type": "code",
   "execution_count": 57,
   "id": "18a9f2f4",
   "metadata": {},
   "outputs": [
    {
     "name": "stdout",
     "output_type": "stream",
     "text": [
      "<class 'dict'>\n",
      "True\n",
      "3\n",
      "['age', 'location', 'name']\n",
      "name\n",
      "age\n",
      "kumar\n",
      "kumar\n",
      "None\n"
     ]
    }
   ],
   "source": [
    "##dictionary\n",
    "a={'name':'kumar','age':40,'location':'chennai'}\n",
    "print(type(a))\n",
    "print(isinstance(a,dict))\n",
    "print(len(a))\n",
    "print(sorted(a))\n",
    "print(max(a))\n",
    "print(min(a))\n",
    "print(a['name'])\n",
    "print(a.get('name'))\n",
    "#print(a['time'])\n",
    "print(a.get('time'))\n"
   ]
  },
  {
   "cell_type": "code",
   "execution_count": 63,
   "id": "18eec790",
   "metadata": {},
   "outputs": [
    {
     "name": "stdout",
     "output_type": "stream",
     "text": [
      "dict_keys(['name', 'age', 'location'])\n",
      "dict_values(['kumar', 40, 'chennai'])\n",
      "dict_items([('name', 'kumar'), ('age', 40), ('location', 'chennai')])\n",
      "{'name': 'kumar', 'age': 40, 'location': 'chennai', 'time': 123}\n",
      "123\n"
     ]
    }
   ],
   "source": [
    "a={'name':'kumar','age':40,'location':'chennai'}\n",
    "print(a.keys())\n",
    "print(a.values())\n",
    "print(a.items())\n",
    "a['time']=123\n",
    "print(a)\n",
    "print(a['time'])"
   ]
  },
  {
   "cell_type": "code",
   "execution_count": 70,
   "id": "47229cb9",
   "metadata": {},
   "outputs": [
    {
     "name": "stdout",
     "output_type": "stream",
     "text": [
      "7\n",
      "3\n",
      "10\n",
      "25\n",
      "2.5\n",
      "2\n",
      "1\n"
     ]
    }
   ],
   "source": [
    "#operators\n",
    "\n",
    "#arithmatic operators\n",
    "a=5\n",
    "b=2\n",
    "print(a+b)\n",
    "print(a-b)\n",
    "print(a*b)\n",
    "print(a**b)\n",
    "print(a/b)\n",
    "print(a//b)##floor division ----quotient\n",
    "print(a%b)## modulus ---remainder\n"
   ]
  },
  {
   "cell_type": "code",
   "execution_count": 77,
   "id": "53413fd5",
   "metadata": {},
   "outputs": [
    {
     "name": "stdout",
     "output_type": "stream",
     "text": [
      "True\n",
      "False\n",
      "False\n",
      "False\n",
      "True\n",
      "True\n"
     ]
    }
   ],
   "source": [
    "#asssignment operators\n",
    "a =5\n",
    "#value to assign\n",
    "\n",
    "#relation operators\n",
    "\n",
    "a=5\n",
    "b=5\n",
    "print(a==b)\n",
    "print(a!=b)\n",
    "print(a>b)\n",
    "print(a<b)\n",
    "print(a>=b)\n",
    "print(a<=b)"
   ]
  },
  {
   "cell_type": "code",
   "execution_count": 84,
   "id": "d5273c6d",
   "metadata": {},
   "outputs": [
    {
     "name": "stdout",
     "output_type": "stream",
     "text": [
      "True\n",
      "False\n",
      "False\n",
      "False\n",
      "True\n",
      "False\n"
     ]
    }
   ],
   "source": [
    "#relational operators\n",
    "print(True and True)\n",
    "print(False and False)\n",
    "print(False and True)\n",
    "print(False or False)\n",
    "print(True or False)\n",
    "print(not True)"
   ]
  },
  {
   "cell_type": "code",
   "execution_count": 6,
   "id": "823f0347",
   "metadata": {},
   "outputs": [
    {
     "name": "stdout",
     "output_type": "stream",
     "text": [
      "{1, 2, 3, 4, 5, 6}\n",
      "{3, 4}\n",
      "{5, 6}\n"
     ]
    }
   ],
   "source": [
    "a={1,2,3,4}\n",
    "b={3,4,5,6}\n",
    "print(a.union(b))\n",
    "print(a.intersection(b))\n",
    "print(b.difference(a))"
   ]
  },
  {
   "cell_type": "code",
   "execution_count": null,
   "id": "d0111f1a",
   "metadata": {},
   "outputs": [],
   "source": []
  }
 ],
 "metadata": {
  "kernelspec": {
   "display_name": "Python 3 (ipykernel)",
   "language": "python",
   "name": "python3"
  },
  "language_info": {
   "codemirror_mode": {
    "name": "ipython",
    "version": 3
   },
   "file_extension": ".py",
   "mimetype": "text/x-python",
   "name": "python",
   "nbconvert_exporter": "python",
   "pygments_lexer": "ipython3",
   "version": "3.9.13"
  }
 },
 "nbformat": 4,
 "nbformat_minor": 5
}
