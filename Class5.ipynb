{
 "cells": [
  {
   "cell_type": "code",
   "execution_count": 11,
   "id": "b9b01f3f",
   "metadata": {},
   "outputs": [],
   "source": [
    "#class and object\n",
    "class calc():\n",
    "    def mul(self,a,b):\n",
    "        print(a*b)\n",
    "        \n",
    "    def sub(self,a,b):\n",
    "        print(a-b)\n",
    "        \n",
    "    def add(self,a,b):\n",
    "        print(a+b)"
   ]
  },
  {
   "cell_type": "code",
   "execution_count": 12,
   "id": "2a646f5a",
   "metadata": {},
   "outputs": [
    {
     "name": "stdout",
     "output_type": "stream",
     "text": [
      "20\n",
      "1\n",
      "9\n"
     ]
    }
   ],
   "source": [
    "a=calc()\n",
    "a.mul(5,4)\n",
    "a.sub(5,4)\n",
    "a.add(5,4)"
   ]
  },
  {
   "cell_type": "code",
   "execution_count": 16,
   "id": "7ab3ad35",
   "metadata": {},
   "outputs": [
    {
     "name": "stdout",
     "output_type": "stream",
     "text": [
      "<class '__main__.calc'>\n",
      "<__main__.calc object at 0x000001A739FB99D0>\n"
     ]
    }
   ],
   "source": [
    "print(calc)\n",
    "print(a)"
   ]
  },
  {
   "cell_type": "code",
   "execution_count": 17,
   "id": "6742869c",
   "metadata": {},
   "outputs": [],
   "source": [
    "class hotel():\n",
    "    \n",
    "    def floor(self,a):\n",
    "        if a == \"1\":\n",
    "            print(\"veg\")\n",
    "        elif a == \"2\":\n",
    "            print(\"non veg\")\n",
    "    def dish(self,a):\n",
    "        if a == \"1\":\n",
    "            print(\"veg biryani\")\n",
    "        elif a == \"2\":\n",
    "            print(\"chicken briyani\")\n"
   ]
  },
  {
   "cell_type": "code",
   "execution_count": 18,
   "id": "04695a3a",
   "metadata": {},
   "outputs": [
    {
     "name": "stdout",
     "output_type": "stream",
     "text": [
      "veg\n",
      "chicken briyani\n"
     ]
    }
   ],
   "source": [
    "a = hotel()\n",
    "a.floor(\"1\")\n",
    "a.dish(\"2\")"
   ]
  },
  {
   "cell_type": "code",
   "execution_count": 26,
   "id": "abb2f36f",
   "metadata": {},
   "outputs": [],
   "source": [
    "class hotel():\n",
    "    \n",
    "    def __init__(self,a):\n",
    "        self.a = a\n",
    "        \n",
    "    def floor(self):\n",
    "        if self.a == \"1\":\n",
    "            print(\"veg\")\n",
    "        elif self.a == \"2\":\n",
    "            print(\"non veg\")\n",
    "            \n",
    "    def dish(self):\n",
    "        if self.a == \"1\":\n",
    "            print(\"veg biryani\")\n",
    "        elif self.a == \"2\":\n",
    "            print(\"chicken briyani\")\n"
   ]
  },
  {
   "cell_type": "code",
   "execution_count": 27,
   "id": "8fb4e84e",
   "metadata": {},
   "outputs": [
    {
     "name": "stdout",
     "output_type": "stream",
     "text": [
      "veg\n",
      "veg biryani\n"
     ]
    }
   ],
   "source": [
    "b = hotel(\"1\")\n",
    "b.floor()\n",
    "b.dish()"
   ]
  },
  {
   "cell_type": "code",
   "execution_count": 30,
   "id": "afceb032",
   "metadata": {},
   "outputs": [],
   "source": [
    "#dir(a)"
   ]
  },
  {
   "cell_type": "code",
   "execution_count": 26,
   "id": "d9ca1cd6",
   "metadata": {},
   "outputs": [
    {
     "name": "stdout",
     "output_type": "stream",
     "text": [
      "welcome\n",
      "name is: anis\n",
      "age is: 20\n"
     ]
    }
   ],
   "source": [
    "#contructor\n",
    "class Demo():\n",
    "    print(\"welcome\")\n",
    "    def __init__(self,name,age):\n",
    "        self.name=name\n",
    "        self.age=age\n",
    "    def display(self):\n",
    "        print(\"name is:\",self.name)\n",
    "        print(\"age is:\",self.age)\n",
    "        \n",
    "obj=Demo(\"anis\",\"20\")\n",
    "obj.display()\n"
   ]
  },
  {
   "cell_type": "code",
   "execution_count": 130,
   "id": "540dba94",
   "metadata": {},
   "outputs": [],
   "source": [
    "class demo():\n",
    "    def __init__(self,a,b):\n",
    "        self.a = a\n",
    "        self.b = b\n",
    "    def add(self):\n",
    "        if self.a == \"a,b\":\n",
    "            print(a+b)\n",
    "    \n",
    "    def sub(self):\n",
    "        if self.b == \"a,b\":\n",
    "            print(a-b)"
   ]
  },
  {
   "cell_type": "code",
   "execution_count": 138,
   "id": "97d35036",
   "metadata": {},
   "outputs": [],
   "source": [
    "obj=demo(1,5)\n",
    "obj.sub()"
   ]
  },
  {
   "cell_type": "code",
   "execution_count": 9,
   "id": "99aadc62",
   "metadata": {},
   "outputs": [
    {
     "name": "stdout",
     "output_type": "stream",
     "text": [
      "20000\n"
     ]
    }
   ],
   "source": [
    "class alam():\n",
    "    def __init__(self,gram):\n",
    "        self.gram = gram\n",
    "    def display(self,rate):\n",
    "            print(rate*self.gram)\n",
    "            \n",
    "obj=alam(2000)\n",
    "obj.display(10)"
   ]
  },
  {
   "cell_type": "code",
   "execution_count": 61,
   "id": "9ebce40b",
   "metadata": {},
   "outputs": [
    {
     "ename": "AttributeError",
     "evalue": "'alam' object has no attribute 'rate'",
     "output_type": "error",
     "traceback": [
      "\u001b[1;31m---------------------------------------------------------------------------\u001b[0m",
      "\u001b[1;31mAttributeError\u001b[0m                            Traceback (most recent call last)",
      "\u001b[1;32m~\\AppData\\Local\\Temp\\ipykernel_724\\196830246.py\u001b[0m in \u001b[0;36m<module>\u001b[1;34m\u001b[0m\n\u001b[0;32m      5\u001b[0m \u001b[1;33m\u001b[0m\u001b[0m\n\u001b[0;32m      6\u001b[0m \u001b[0mobj\u001b[0m\u001b[1;33m=\u001b[0m\u001b[0malam\u001b[0m\u001b[1;33m(\u001b[0m\u001b[1;33m)\u001b[0m\u001b[1;33m\u001b[0m\u001b[1;33m\u001b[0m\u001b[0m\n\u001b[1;32m----> 7\u001b[1;33m \u001b[0mobj\u001b[0m\u001b[1;33m.\u001b[0m\u001b[0mhero\u001b[0m\u001b[1;33m(\u001b[0m\u001b[1;36m2000\u001b[0m\u001b[1;33m,\u001b[0m\u001b[1;36m12\u001b[0m\u001b[1;33m)\u001b[0m\u001b[1;33m\u001b[0m\u001b[1;33m\u001b[0m\u001b[0m\n\u001b[0m",
      "\u001b[1;32m~\\AppData\\Local\\Temp\\ipykernel_724\\196830246.py\u001b[0m in \u001b[0;36mhero\u001b[1;34m(self, rate, gram)\u001b[0m\n\u001b[0;32m      1\u001b[0m \u001b[1;32mclass\u001b[0m \u001b[0malam\u001b[0m\u001b[1;33m(\u001b[0m\u001b[1;33m)\u001b[0m\u001b[1;33m:\u001b[0m\u001b[1;33m\u001b[0m\u001b[1;33m\u001b[0m\u001b[0m\n\u001b[0;32m      2\u001b[0m     \u001b[1;32mdef\u001b[0m \u001b[0mhero\u001b[0m\u001b[1;33m(\u001b[0m\u001b[0mself\u001b[0m\u001b[1;33m,\u001b[0m\u001b[0mrate\u001b[0m\u001b[1;33m,\u001b[0m\u001b[0mgram\u001b[0m\u001b[1;33m)\u001b[0m\u001b[1;33m:\u001b[0m\u001b[1;33m\u001b[0m\u001b[1;33m\u001b[0m\u001b[0m\n\u001b[1;32m----> 3\u001b[1;33m         \u001b[0mprint\u001b[0m\u001b[1;33m(\u001b[0m\u001b[0mrate\u001b[0m\u001b[1;33m*\u001b[0m\u001b[0mself\u001b[0m\u001b[1;33m.\u001b[0m\u001b[0mrate\u001b[0m\u001b[1;33m)\u001b[0m\u001b[1;33m\u001b[0m\u001b[1;33m\u001b[0m\u001b[0m\n\u001b[0m\u001b[0;32m      4\u001b[0m         \u001b[0mprint\u001b[0m\u001b[1;33m(\u001b[0m\u001b[0mgram\u001b[0m\u001b[1;33m*\u001b[0m\u001b[0mself\u001b[0m\u001b[1;33m.\u001b[0m\u001b[0mgram\u001b[0m\u001b[1;33m)\u001b[0m\u001b[1;33m\u001b[0m\u001b[1;33m\u001b[0m\u001b[0m\n\u001b[0;32m      5\u001b[0m \u001b[1;33m\u001b[0m\u001b[0m\n",
      "\u001b[1;31mAttributeError\u001b[0m: 'alam' object has no attribute 'rate'"
     ]
    }
   ],
   "source": [
    "class alam():\n",
    "    def hero(self,rate,gram):\n",
    "        print(rate*self.rate)\n",
    "        \n",
    "obj=alam()\n",
    "obj.hero(2000,12)"
   ]
  },
  {
   "cell_type": "code",
   "execution_count": 7,
   "id": "0d8aa0bd",
   "metadata": {},
   "outputs": [
    {
     "name": "stdout",
     "output_type": "stream",
     "text": [
      "name is alam\n",
      "age is 20\n"
     ]
    }
   ],
   "source": [
    "#revision\n",
    "class hero():\n",
    "    def __init__(self):\n",
    "        self.name=\"alam\"\n",
    "        self.age=20\n",
    "    def anis(self):\n",
    "        print(\"name is\",self.name)\n",
    "        print(\"age is\",self.age)\n",
    "            \n",
    "obj=hero()\n",
    "obj.anis()"
   ]
  },
  {
   "cell_type": "code",
   "execution_count": 11,
   "id": "e3cf9974",
   "metadata": {},
   "outputs": [],
   "source": [
    "#single inheritance\n",
    "\n",
    "class calc():\n",
    "    def add(self,a,b):\n",
    "        print(a+b)\n",
    "    def sub(self,a,b):\n",
    "        print(a-b)"
   ]
  },
  {
   "cell_type": "code",
   "execution_count": 16,
   "id": "a0bab70e",
   "metadata": {},
   "outputs": [],
   "source": [
    "class calc1(calc):\n",
    "    def mul(self,a,b):\n",
    "        print(a*b)"
   ]
  },
  {
   "cell_type": "code",
   "execution_count": 17,
   "id": "9c837271",
   "metadata": {},
   "outputs": [
    {
     "name": "stdout",
     "output_type": "stream",
     "text": [
      "9\n",
      "1\n",
      "20\n"
     ]
    }
   ],
   "source": [
    "a=calc1()\n",
    "a.add(5,4)\n",
    "a.sub(5,4)\n",
    "a.mul(5,4)"
   ]
  },
  {
   "cell_type": "code",
   "execution_count": 18,
   "id": "f6f65dbc",
   "metadata": {},
   "outputs": [],
   "source": [
    "#multi-level inheritance\n",
    "class calc2(calc1):\n",
    "    def div(self,a,b):\n",
    "        print(a/b)"
   ]
  },
  {
   "cell_type": "code",
   "execution_count": 19,
   "id": "ed39d9f9",
   "metadata": {},
   "outputs": [
    {
     "name": "stdout",
     "output_type": "stream",
     "text": [
      "1.25\n",
      "9\n",
      "1\n",
      "20\n"
     ]
    }
   ],
   "source": [
    "a=calc2()\n",
    "a.div(5,4)\n",
    "a.add(5,4)\n",
    "a.sub(5,4)\n",
    "a.mul(5,4)"
   ]
  },
  {
   "cell_type": "code",
   "execution_count": 44,
   "id": "4f94bd0f",
   "metadata": {},
   "outputs": [],
   "source": [
    "#Abstraction\n",
    "\n",
    "from abc import ABC , abstractmethod\n",
    "class calc(ABC):\n",
    "    \n",
    "    @abstractmethod\n",
    "    def add(self):\n",
    "        pass\n",
    "    @abstractmethod\n",
    "    def sub(self):\n",
    "        pass"
   ]
  },
  {
   "cell_type": "code",
   "execution_count": 47,
   "id": "36d2990a",
   "metadata": {},
   "outputs": [
    {
     "name": "stdout",
     "output_type": "stream",
     "text": [
      "9\n"
     ]
    }
   ],
   "source": [
    "class calc1(calc):\n",
    "    \n",
    "    def add(self,a,b):\n",
    "        print(a+b)\n",
    "    def sub(self,a,b):\n",
    "        print(a-b)\n",
    "    def mul(self,a,b):\n",
    "        print(a*b)\n",
    "a=calc1()\n",
    "a.add(5,4)"
   ]
  },
  {
   "cell_type": "code",
   "execution_count": 52,
   "id": "afd1a67d",
   "metadata": {},
   "outputs": [
    {
     "name": "stdout",
     "output_type": "stream",
     "text": [
      "0\n",
      "1\n",
      "2\n"
     ]
    }
   ],
   "source": [
    "#control statement(break,continue-skip the no ,pass)\n",
    "\n",
    "for i in range(5):    \n",
    "    if i == 3:\n",
    "        break #break the no:3\n",
    "    print(i)"
   ]
  },
  {
   "cell_type": "code",
   "execution_count": 69,
   "id": "ddf14ea3",
   "metadata": {},
   "outputs": [
    {
     "name": "stdout",
     "output_type": "stream",
     "text": [
      "0\n",
      "1\n",
      "2\n",
      "4\n"
     ]
    }
   ],
   "source": [
    "\n",
    "for i in range(5):    \n",
    "    if i == 3:\n",
    "        continue # skip the no:3\n",
    "    print(i)"
   ]
  },
  {
   "cell_type": "code",
   "execution_count": 70,
   "id": "dacedf83",
   "metadata": {},
   "outputs": [
    {
     "name": "stdout",
     "output_type": "stream",
     "text": [
      "0\n",
      "1\n",
      "2\n",
      "3\n",
      "4\n"
     ]
    }
   ],
   "source": [
    "for i in range(5):    \n",
    "    if i == 3:\n",
    "        pass # its common\n",
    "    print(i)"
   ]
  },
  {
   "cell_type": "code",
   "execution_count": 71,
   "id": "4a904117",
   "metadata": {},
   "outputs": [
    {
     "name": "stdout",
     "output_type": "stream",
     "text": [
      "(1, 2, 3, 4, 5, 6, 7, 8, 9, 0, 'test')\n"
     ]
    }
   ],
   "source": [
    "def test(*args):\n",
    "    print(args)\n",
    "test(1,2,3,4,5,6,7,8,9,0,\"test\")"
   ]
  },
  {
   "cell_type": "code",
   "execution_count": 6,
   "id": "e8819591",
   "metadata": {},
   "outputs": [
    {
     "name": "stdout",
     "output_type": "stream",
     "text": [
      "{'a': 1, 'b': 2, 'c': 3}\n",
      "1\n"
     ]
    }
   ],
   "source": [
    "def myFun(**kwargs):\n",
    "    print(kwargs)\n",
    "    print(kwargs.get(\"a\"))\n",
    "\n",
    "# Driver code\n",
    "myFun(a=1,b=2,c=3)"
   ]
  },
  {
   "cell_type": "code",
   "execution_count": 8,
   "id": "58496e65",
   "metadata": {},
   "outputs": [
    {
     "data": {
      "text/plain": [
       "10"
      ]
     },
     "execution_count": 8,
     "metadata": {},
     "output_type": "execute_result"
    }
   ],
   "source": [
    "#inline function\n",
    "\n",
    "a = lambda x : x+5\n",
    "a(5)"
   ]
  },
  {
   "cell_type": "code",
   "execution_count": 9,
   "id": "72290da5",
   "metadata": {},
   "outputs": [
    {
     "data": {
      "text/plain": [
       "20"
      ]
     },
     "execution_count": 9,
     "metadata": {},
     "output_type": "execute_result"
    }
   ],
   "source": [
    "a = lambda a,b : a*b\n",
    "a(5,4)"
   ]
  },
  {
   "cell_type": "code",
   "execution_count": 10,
   "id": "ae5a4d79",
   "metadata": {},
   "outputs": [
    {
     "name": "stdout",
     "output_type": "stream",
     "text": [
      "20\n"
     ]
    }
   ],
   "source": [
    "def demo(a,b):\n",
    "    return(a*b)\n",
    "a=demo(5,4)\n",
    "print(a)"
   ]
  },
  {
   "cell_type": "code",
   "execution_count": 13,
   "id": "efb2fbab",
   "metadata": {},
   "outputs": [
    {
     "name": "stdout",
     "output_type": "stream",
     "text": [
      "[0, 1, 2, 3, 4, 5, 6, 7, 8, 9]\n",
      "[0, 2, 4, 6, 8]\n"
     ]
    }
   ],
   "source": [
    "# list comprehension\n",
    "a = [x for x in range(10)]\n",
    "print(a)\n",
    "a = [x for x in range(10) if x % 2==0]\n",
    "print(a)"
   ]
  },
  {
   "cell_type": "code",
   "execution_count": 24,
   "id": "96ebb857",
   "metadata": {},
   "outputs": [
    {
     "name": "stdout",
     "output_type": "stream",
     "text": [
      "{0: 0, 1: 1, 2: 4, 3: 9, 4: 16, 5: 25, 6: 36, 7: 49, 8: 64, 9: 81}\n"
     ]
    }
   ],
   "source": [
    "a = {x : x**2 for x in range(10)}\n",
    "print(a)"
   ]
  },
  {
   "cell_type": "code",
   "execution_count": 25,
   "id": "eb8f672a",
   "metadata": {},
   "outputs": [
    {
     "name": "stdout",
     "output_type": "stream",
     "text": [
      "{1: 'one', 2: 'two', 3: 'three'}\n"
     ]
    }
   ],
   "source": [
    "a = [\"one\" , \"two\" , \"three\"]\n",
    "b = [1,2,3]\n",
    "c = zip(b,a)\n",
    "print(dict(c))"
   ]
  },
  {
   "cell_type": "code",
   "execution_count": 26,
   "id": "32be00d7",
   "metadata": {},
   "outputs": [
    {
     "name": "stdout",
     "output_type": "stream",
     "text": [
      "[[0, 1, 2, 3, 4], [0, 1, 2, 3, 4], [0, 1, 2, 3, 4], [0, 1, 2, 3, 4], [0, 1, 2, 3, 4]]\n"
     ]
    }
   ],
   "source": [
    "# Nested list comprehension\n",
    "matrix = [[j for j in range(5)] for i in range(5)]\n",
    "print(matrix)"
   ]
  },
  {
   "cell_type": "code",
   "execution_count": null,
   "id": "75a82440",
   "metadata": {},
   "outputs": [],
   "source": []
  }
 ],
 "metadata": {
  "kernelspec": {
   "display_name": "Python 3 (ipykernel)",
   "language": "python",
   "name": "python3"
  },
  "language_info": {
   "codemirror_mode": {
    "name": "ipython",
    "version": 3
   },
   "file_extension": ".py",
   "mimetype": "text/x-python",
   "name": "python",
   "nbconvert_exporter": "python",
   "pygments_lexer": "ipython3",
   "version": "3.9.13"
  }
 },
 "nbformat": 4,
 "nbformat_minor": 5
}
